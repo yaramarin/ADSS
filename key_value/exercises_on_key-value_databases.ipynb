{
 "cells": [
  {
   "cell_type": "markdown",
   "metadata": {},
   "source": [
    "# Advanced Data Structures and Storage\n",
    "## Session 16: Exercises on Caching and Key-value Databases\n",
    "\n",
    "***Next session, I will ask some of you to explain your solutions.***"
   ]
  },
  {
   "cell_type": "markdown",
   "metadata": {},
   "source": [
    "### Part 1\n",
    "\n",
    "Give a first-hand experience where you have needed to read/use data in a way that the **temporal locality principle** holds.\n",
    "\n",
    "*Example: when loading the same website twice, the second time around it is faster because its content has been cached*"
   ]
  },
  {
   "cell_type": "markdown",
   "metadata": {},
   "source": [
    "### Part 2\n",
    "\n",
    "Give a first-hand experience where you have needed to read/use data in a way that the **spatial locality principle** holds."
   ]
  },
  {
   "cell_type": "markdown",
   "metadata": {},
   "source": [
    "### Part 3\n",
    "\n",
    "In class, we looked at a cache of size 3 that stored the last-accessed capital cities and their countries (`'Madrid'`: `'Spain'`, `'Paris'`: `France'`, etc.). Does this situation have spatial locality or temporal locality? Why?"
   ]
  },
  {
   "cell_type": "markdown",
   "metadata": {},
   "source": [
    "### Part 4\n",
    "\n",
    "We have this Python dictionary: \n",
    "\n",
    "`capitals = {'Madrid': 'Spain', 'Paris': 'France', 'Rome': 'Italy'}`\n",
    "\n",
    "Can you think of a way to store the same information in a Python set? Write it in code."
   ]
  },
  {
   "cell_type": "markdown",
   "metadata": {},
   "source": [
    "### Part 4\n",
    "\n",
    "Key-value databases (like the dictionary capitals in the previous question) are very efficient for searching by key. They are not so great for searching by value, but it is possible if needed.\n",
    "\n",
    "Write Python code that finds and prints the capital of Italy from the dictionary capitals."
   ]
  },
  {
   "cell_type": "markdown",
   "metadata": {},
   "source": [
    "### Part 5 (Optional)\n",
    "\n",
    "Simulate an LRU cache in Python. You should implement two functions:\n",
    "\n",
    "- `use(x)` inserts an element `x` in the cache if it wasn't already there. If it was already there, it marks it as the least recently used.\n",
    "- `query(x)`. If `x` is not in the cache, raise a Python `Exception` of the kind `ValueError`. If it is, mark it as the least recently used.\n",
    "\n",
    "*Hint: there are multiple ways to implement this. Maybe the easiest is by using a pandas dataframe.*"
   ]
  }
 ],
 "metadata": {
  "kernelspec": {
   "display_name": "Python 3",
   "language": "python",
   "name": "python3"
  },
  "language_info": {
   "codemirror_mode": {
    "name": "ipython",
    "version": 3
   },
   "file_extension": ".py",
   "mimetype": "text/x-python",
   "name": "python",
   "nbconvert_exporter": "python",
   "pygments_lexer": "ipython3",
   "version": "3.undefined.undefined"
  }
 },
 "nbformat": 4,
 "nbformat_minor": 4
}
